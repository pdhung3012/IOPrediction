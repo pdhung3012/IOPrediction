{
 "cells": [
  {
   "cell_type": "code",
   "execution_count": null,
   "id": "794f8707-deaf-4c9a-80af-394be06f9191",
   "metadata": {},
   "outputs": [],
   "source": [
    "%run -i common.ipynb\n",
    "##\n",
    "## Get the data to train the model\n",
    "##\n",
    "file_tot_dir='/project/projectdirs/m1248/Darshan-data/2019-01-raw-iodig'\n",
    "data_to_train=\"/global/cscratch1/sd/dbin/2019-01-total-tagged.csv\"\n",
    "df_tot = read_total_multiple_days(file_tot_dir, 1, 30, print_header_p=False, is_split_p=True);\n",
    "df_tot_transformed,df_tot_transformed_orig=transform_raw_data(df_tot, data_to_train)\n",
    "df_tot_transformed.hist(column='tag')\n",
    "##\n",
    "## Get the data to explain\n",
    "##\n",
    "file_of_h5bench_ior=\"/global/homes/d/dbin/IODiagnoser/log-test-1.csv\"\n",
    "data_to_explain=\"/global/cscratch1/sd/dbin/h5bench_ior_to_explain.csv\"\n",
    "df_h5bench_ior=read_total(file_of_h5bench_ior, print_header_p=False, is_split_p=False, tot_dop_cols_p = tot_dop_cols);\n",
    "df_h5bench_ior=transform_raw_data(df_h5bench_ior, data_to_explain, n_to_display_p =3)\n"
   ]
  },
  {
   "cell_type": "code",
   "execution_count": 1,
   "id": "0ed365be-4302-4af5-96ae-a923fc099d47",
   "metadata": {},
   "outputs": [
    {
     "name": "stdout",
     "output_type": "stream",
     "text": [
      "['darshan_log_version', 'exe', 'uid', 'start_time', 'start_time_asci', 'end_time', 'end_time_asci', 'runtime', 'LUSTRE_OSTS', 'LUSTRE_MDTS', 'LUSTRE_STRIPE_OFFSET']\n",
      "/project/projectdirs/m2621/dbin/Cori_archive_2019_un_taz_parsered/2019/1/...\n",
      "/project/projectdirs/m2621/dbin/Cori_archive_2019_un_taz_parsered/2019/2/...\n",
      "/project/projectdirs/m2621/dbin/Cori_archive_2019_un_taz_parsered/2019/3/...\n",
      "/project/projectdirs/m2621/dbin/Cori_archive_2019_un_taz_parsered/2019/4/...\n",
      "/project/projectdirs/m2621/dbin/Cori_archive_2019_un_taz_parsered/2019/5/...\n",
      "/project/projectdirs/m2621/dbin/Cori_archive_2019_un_taz_parsered/2019/6/...\n",
      "/project/projectdirs/m2621/dbin/Cori_archive_2019_un_taz_parsered/2019/7/...\n",
      "/project/projectdirs/m2621/dbin/Cori_archive_2019_un_taz_parsered/2019/8/...\n",
      "/project/projectdirs/m2621/dbin/Cori_archive_2019_un_taz_parsered/2019/9/...\n",
      "/project/projectdirs/m2621/dbin/Cori_archive_2019_un_taz_parsered/2019/10/...\n",
      "/project/projectdirs/m2621/dbin/Cori_archive_2019_un_taz_parsered/2019/11/...\n",
      "/project/projectdirs/m2621/dbin/Cori_archive_2019_un_taz_parsered/2019/12/...\n",
      "read_total_multiple_days:  df_result's size  =  (3013293, 189)\n",
      "Have [ 120 ] colums after droping MPIIO  from orginal [ 189 ] cols\n",
      "Have [ 90 ] colums after droping STDIO  from orginal [ 120 ] cols\n",
      "Drop [total_POSIX_MODE] \n",
      "Drop [ 437717 ]  among   3013293  Rows by drop_non_luster_access\n",
      "# of Cols after drop TIME ( 65 / 89 ):  ['total_POSIX_MAX_BYTE_READ', 'total_POSIX_F_VARIANCE_RANK_TIME', 'total_POSIX_F_CLOSE_START_TIMESTAMP', 'total_POSIX_F_OPEN_END_TIMESTAMP', 'total_POSIX_MAX_BYTE_WRITTEN', 'total_POSIX_F_WRITE_END_TIMESTAMP', 'total_POSIX_FASTEST_RANK_BYTES', 'total_POSIX_F_READ_TIME', 'total_POSIX_F_META_TIME', 'total_POSIX_F_WRITE_START_TIMESTAMP', 'total_POSIX_SLOWEST_RANK_BYTES', 'total_POSIX_SLOWEST_RANK', 'total_POSIX_F_FASTEST_RANK_TIME', 'total_POSIX_F_READ_END_TIMESTAMP', 'total_POSIX_MAX_WRITE_TIME_SIZE', 'total_POSIX_F_OPEN_START_TIMESTAMP', 'total_POSIX_F_MAX_READ_TIME', 'total_POSIX_F_CLOSE_END_TIMESTAMP', 'total_POSIX_F_WRITE_TIME', 'total_POSIX_F_SLOWEST_RANK_TIME', 'total_POSIX_FASTEST_RANK', 'total_POSIX_F_READ_START_TIMESTAMP', 'total_POSIX_MAX_READ_TIME_SIZE', 'total_POSIX_F_MAX_WRITE_TIME']\n",
      "After filter,  shape is :  (2575576, 65)\n"
     ]
    }
   ],
   "source": [
    "%run -i common.ipynb\n",
    "# For the whole year's data\n",
    "file_dir='/project/projectdirs/m2621/dbin/Cori_archive_2019_un_taz_parsered/2019'\n",
    "output_data=\"/project/projectdirs/m2621/dbin/Cori_archive_2019_un_taz_parsered_tagged.csv\"\n",
    "df_tot = read_total_multiple_monthes(file_dir, 1, 12, print_header_p=False, is_split_p=True, print_progress=True);\n",
    "df_tot_transformed=transform_raw_data(df_tot, file_to_save=output_data)\n",
    "\n",
    "#df_feed=feature_engineering(df_tot_transformed)\n",
    "#df_feed_dense=drop_sparse_rc(df_feed)\n",
    "#df_feed_dense.to_csv(output_data, header=True, index=False)\n",
    "#df_feed_dense.hist(column='tag')"
   ]
  },
  {
   "cell_type": "code",
   "execution_count": 6,
   "id": "15cd807c-4082-437d-a008-873b0e46ce8a",
   "metadata": {},
   "outputs": [
    {
     "name": "stdout",
     "output_type": "stream",
     "text": [
      "['darshan_log_version', 'exe', 'uid', 'start_time', 'start_time_asci', 'end_time', 'end_time_asci', 'runtime', 'LUSTRE_OSTS', 'LUSTRE_MDTS', 'LUSTRE_STRIPE_OFFSET']\n",
      "/project/projectdirs/m2621/dbin/Cori_archive_2021_un_taz_parsered/2021/1/...\n",
      "/project/projectdirs/m2621/dbin/Cori_archive_2021_un_taz_parsered/2021/2/...\n",
      "/project/projectdirs/m2621/dbin/Cori_archive_2021_un_taz_parsered/2021/3/...\n",
      "/project/projectdirs/m2621/dbin/Cori_archive_2021_un_taz_parsered/2021/4/...\n",
      "/project/projectdirs/m2621/dbin/Cori_archive_2021_un_taz_parsered/2021/5/...\n",
      "/project/projectdirs/m2621/dbin/Cori_archive_2021_un_taz_parsered/2021/6/...\n",
      "/project/projectdirs/m2621/dbin/Cori_archive_2021_un_taz_parsered/2021/7/...\n",
      "/project/projectdirs/m2621/dbin/Cori_archive_2021_un_taz_parsered/2021/8/...\n",
      "/project/projectdirs/m2621/dbin/Cori_archive_2021_un_taz_parsered/2021/9/...\n",
      "/project/projectdirs/m2621/dbin/Cori_archive_2021_un_taz_parsered/2021/10/...\n",
      "/project/projectdirs/m2621/dbin/Cori_archive_2021_un_taz_parsered/2021/11/...\n",
      "/project/projectdirs/m2621/dbin/Cori_archive_2021_un_taz_parsered/2021/12/...\n",
      "read_total_multiple_days:  df_result's size  =  (2854583, 189)\n",
      "Have [ 120 ] colums after droping MPIIO  from orginal [ 189 ] cols\n",
      "Have [ 90 ] colums after droping STDIO  from orginal [ 120 ] cols\n",
      "Drop [total_POSIX_MODE] \n",
      "Drop [ 664216 ]  among   2854583  Rows by drop_non_luster_access\n",
      "# of Cols after drop TIME ( 65 / 89 ):  ['total_POSIX_FASTEST_RANK_BYTES', 'total_POSIX_MAX_BYTE_READ', 'total_POSIX_F_MAX_WRITE_TIME', 'total_POSIX_F_CLOSE_END_TIMESTAMP', 'total_POSIX_F_WRITE_END_TIMESTAMP', 'total_POSIX_F_READ_END_TIMESTAMP', 'total_POSIX_F_WRITE_START_TIMESTAMP', 'total_POSIX_F_VARIANCE_RANK_TIME', 'total_POSIX_MAX_BYTE_WRITTEN', 'total_POSIX_F_SLOWEST_RANK_TIME', 'total_POSIX_SLOWEST_RANK', 'total_POSIX_SLOWEST_RANK_BYTES', 'total_POSIX_F_OPEN_START_TIMESTAMP', 'total_POSIX_F_READ_START_TIMESTAMP', 'total_POSIX_MAX_WRITE_TIME_SIZE', 'total_POSIX_F_READ_TIME', 'total_POSIX_F_META_TIME', 'total_POSIX_MAX_READ_TIME_SIZE', 'total_POSIX_F_MAX_READ_TIME', 'total_POSIX_F_CLOSE_START_TIMESTAMP', 'total_POSIX_F_FASTEST_RANK_TIME', 'total_POSIX_F_OPEN_END_TIMESTAMP', 'total_POSIX_F_WRITE_TIME', 'total_POSIX_FASTEST_RANK']\n",
      "After filter,  shape is :  (2190367, 65)\n"
     ]
    }
   ],
   "source": [
    "%run -i common.ipynb\n",
    "# For the whole year's data\n",
    "file_dir='/project/projectdirs/m2621/dbin/Cori_archive_2021_un_taz_parsered/2021'\n",
    "output_data=\"/project/projectdirs/m2621/dbin/Cori_archive_2021_un_taz_parsered_tagged.csv\"\n",
    "df_tot = read_total_multiple_monthes(file_dir, 1, 12, print_header_p=False, is_split_p=True, print_progress=True);\n",
    "df_tot_transformed=transform_raw_data(df_tot, file_to_save=output_data)\n",
    "\n",
    "#df_feed=feature_engineering(df_tot_transformed)\n",
    "#df_feed_dense=drop_sparse_rc(df_feed)\n",
    "#df_feed_dense.to_csv(output_data, header=True, index=False)\n",
    "#df_feed_dense.hist(column='tag')"
   ]
  },
  {
   "cell_type": "code",
   "execution_count": 4,
   "id": "5c849b2f-e127-4048-8708-9360785e8842",
   "metadata": {},
   "outputs": [
    {
     "name": "stdout",
     "output_type": "stream",
     "text": [
      "['darshan_log_version', 'exe', 'uid', 'start_time', 'start_time_asci', 'end_time', 'end_time_asci', 'runtime', 'LUSTRE_OSTS', 'LUSTRE_MDTS', 'LUSTRE_STRIPE_OFFSET']\n",
      "/project/projectdirs/m2621/dbin/Cori_archive_2020_un_taz_parsered/2020/1/...\n",
      "/project/projectdirs/m2621/dbin/Cori_archive_2020_un_taz_parsered/2020/2/...\n",
      "/project/projectdirs/m2621/dbin/Cori_archive_2020_un_taz_parsered/2020/3/...\n",
      "/project/projectdirs/m2621/dbin/Cori_archive_2020_un_taz_parsered/2020/4/...\n",
      "/project/projectdirs/m2621/dbin/Cori_archive_2020_un_taz_parsered/2020/5/...\n",
      "/project/projectdirs/m2621/dbin/Cori_archive_2020_un_taz_parsered/2020/6/...\n",
      "/project/projectdirs/m2621/dbin/Cori_archive_2020_un_taz_parsered/2020/7/...\n",
      "/project/projectdirs/m2621/dbin/Cori_archive_2020_un_taz_parsered/2020/8/...\n",
      "/project/projectdirs/m2621/dbin/Cori_archive_2020_un_taz_parsered/2020/9/...\n",
      "/project/projectdirs/m2621/dbin/Cori_archive_2020_un_taz_parsered/2020/10/...\n",
      "/project/projectdirs/m2621/dbin/Cori_archive_2020_un_taz_parsered/2020/11/...\n",
      "/project/projectdirs/m2621/dbin/Cori_archive_2020_un_taz_parsered/2020/12/...\n",
      "read_total_multiple_days:  df_result's size  =  (1554827, 189)\n",
      "Have [ 120 ] colums after droping MPIIO  from orginal [ 189 ] cols\n",
      "Have [ 90 ] colums after droping STDIO  from orginal [ 120 ] cols\n",
      "Drop [total_POSIX_MODE] \n",
      "Drop [ 390981 ]  among   1554827  Rows by drop_non_luster_access\n",
      "# of Cols after drop TIME ( 65 / 89 ):  ['total_POSIX_FASTEST_RANK_BYTES', 'total_POSIX_MAX_BYTE_READ', 'total_POSIX_F_MAX_WRITE_TIME', 'total_POSIX_F_CLOSE_END_TIMESTAMP', 'total_POSIX_F_WRITE_END_TIMESTAMP', 'total_POSIX_F_READ_END_TIMESTAMP', 'total_POSIX_F_WRITE_START_TIMESTAMP', 'total_POSIX_F_VARIANCE_RANK_TIME', 'total_POSIX_MAX_BYTE_WRITTEN', 'total_POSIX_F_SLOWEST_RANK_TIME', 'total_POSIX_SLOWEST_RANK', 'total_POSIX_SLOWEST_RANK_BYTES', 'total_POSIX_F_OPEN_START_TIMESTAMP', 'total_POSIX_F_READ_START_TIMESTAMP', 'total_POSIX_MAX_WRITE_TIME_SIZE', 'total_POSIX_F_READ_TIME', 'total_POSIX_F_META_TIME', 'total_POSIX_MAX_READ_TIME_SIZE', 'total_POSIX_F_MAX_READ_TIME', 'total_POSIX_F_CLOSE_START_TIMESTAMP', 'total_POSIX_F_FASTEST_RANK_TIME', 'total_POSIX_F_OPEN_END_TIMESTAMP', 'total_POSIX_F_WRITE_TIME', 'total_POSIX_FASTEST_RANK']\n",
      "After filter,  shape is :  (1163846, 65)\n"
     ]
    }
   ],
   "source": [
    "%run -i common.ipynb\n",
    "# For the whole year's data\n",
    "file_dir='/project/projectdirs/m2621/dbin/Cori_archive_2020_un_taz_parsered/2020'\n",
    "output_data=\"/project/projectdirs/m2621/dbin/Cori_archive_2020_un_taz_parsered_tagged.csv\"\n",
    "df_tot = read_total_multiple_monthes(file_dir, 1, 12, print_header_p=False, is_split_p=True, print_progress=True);\n",
    "\n",
    "df_tot_transformed=transform_raw_data(df_tot, file_to_save=output_data)\n",
    "#df_feed=feature_engineering(df_tot_transformed)\n",
    "#df_feed_dense=drop_sparse_rc(df_feed)\n",
    "#df_feed_dense.to_csv(output_data, header=True, index=False)\n",
    "#df_feed_dense.hist(column='tag')"
   ]
  },
  {
   "cell_type": "code",
   "execution_count": 3,
   "id": "a4408fc7-8955-4cb4-84eb-a624c11df405",
   "metadata": {},
   "outputs": [
    {
     "name": "stdout",
     "output_type": "stream",
     "text": [
      "['darshan_log_version', 'exe', 'uid', 'start_time', 'start_time_asci', 'end_time', 'end_time_asci', 'runtime', 'LUSTRE_OSTS', 'LUSTRE_MDTS', 'LUSTRE_STRIPE_OFFSET']\n",
      "/project/projectdirs/m2621/dbin/Cori_archive_2022_un_taz_parsered/2022/1/...\n",
      "/project/projectdirs/m2621/dbin/Cori_archive_2022_un_taz_parsered/2022/2/...\n",
      "/project/projectdirs/m2621/dbin/Cori_archive_2022_un_taz_parsered/2022/3/...\n",
      "/project/projectdirs/m2621/dbin/Cori_archive_2022_un_taz_parsered/2022/4/...\n",
      "read_total_multiple_days:  df_result's size  =  (963035, 189)\n",
      "Have [ 120 ] colums after droping MPIIO  from orginal [ 189 ] cols\n",
      "Have [ 90 ] colums after droping STDIO  from orginal [ 120 ] cols\n",
      "Drop [total_POSIX_MODE] \n",
      "Drop [ 226561 ]  among   963035  Rows by drop_non_luster_access\n",
      "# of Cols after drop TIME ( 65 / 89 ):  ['total_POSIX_FASTEST_RANK_BYTES', 'total_POSIX_MAX_BYTE_READ', 'total_POSIX_F_MAX_WRITE_TIME', 'total_POSIX_F_CLOSE_END_TIMESTAMP', 'total_POSIX_F_WRITE_END_TIMESTAMP', 'total_POSIX_F_READ_END_TIMESTAMP', 'total_POSIX_F_WRITE_START_TIMESTAMP', 'total_POSIX_F_VARIANCE_RANK_TIME', 'total_POSIX_MAX_BYTE_WRITTEN', 'total_POSIX_F_SLOWEST_RANK_TIME', 'total_POSIX_SLOWEST_RANK', 'total_POSIX_SLOWEST_RANK_BYTES', 'total_POSIX_F_OPEN_START_TIMESTAMP', 'total_POSIX_F_READ_START_TIMESTAMP', 'total_POSIX_MAX_WRITE_TIME_SIZE', 'total_POSIX_F_READ_TIME', 'total_POSIX_F_META_TIME', 'total_POSIX_MAX_READ_TIME_SIZE', 'total_POSIX_F_MAX_READ_TIME', 'total_POSIX_F_CLOSE_START_TIMESTAMP', 'total_POSIX_F_FASTEST_RANK_TIME', 'total_POSIX_F_OPEN_END_TIMESTAMP', 'total_POSIX_F_WRITE_TIME', 'total_POSIX_FASTEST_RANK']\n",
      "After filter,  shape is :  (736474, 65)\n"
     ]
    }
   ],
   "source": [
    "%run -i common.ipynb\n",
    "# For the whole year's data\n",
    "file_dir='/project/projectdirs/m2621/dbin/Cori_archive_2022_un_taz_parsered/2022'\n",
    "output_data=\"/project/projectdirs/m2621/dbin/Cori_archive_2022_un_taz_parsered_tagged.csv\"\n",
    "df_tot = read_total_multiple_monthes(file_dir, 1, 4, print_header_p=False, is_split_p=True, print_progress=True);\n",
    "df_tot_transformed=transform_raw_data(df_tot, file_to_save=output_data)\n",
    "\n",
    "#df_feed=feature_engineering(df_tot_transformed)\n",
    "#df_feed_dense=drop_sparse_rc(df_feed)\n",
    "#df_feed_dense.to_csv(output_data, header=True, index=False)\n",
    "#df_feed_dense.hist(column='tag')"
   ]
  },
  {
   "cell_type": "code",
   "execution_count": 3,
   "id": "03446923-e7a7-45e8-bdd2-b950759189fd",
   "metadata": {},
   "outputs": [
    {
     "name": "stdout",
     "output_type": "stream",
     "text": [
      "(6666263, 65)\n"
     ]
    }
   ],
   "source": [
    "## Merge all files of year 19 20 21 22\n",
    "%run -i common.ipynb\n",
    "\n",
    "output_data=\"/project/projectdirs/m2621/dbin/Cori_archive_19_20_21_22_un_taz_parsered_tagged.csv\"\n",
    "\n",
    "output_data_2019=pd.read_csv(\"/project/projectdirs/m2621/dbin/Cori_archive_2019_un_taz_parsered_tagged.csv\")\n",
    "output_data_2020=pd.read_csv(\"/project/projectdirs/m2621/dbin/Cori_archive_2020_un_taz_parsered_tagged.csv\")\n",
    "output_data_2021=pd.read_csv(\"/project/projectdirs/m2621/dbin/Cori_archive_2021_un_taz_parsered_tagged.csv\")\n",
    "output_data_2022=pd.read_csv(\"/project/projectdirs/m2621/dbin/Cori_archive_2022_un_taz_parsered_tagged.csv\")\n",
    "\n",
    "frames = [output_data_2019, output_data_2020, output_data_2021, output_data_2022]\n",
    "\n",
    "result_df = pd.concat(frames)\n",
    "\n",
    "print(result_df.shape)\n",
    "result_df.to_csv(output_data, header=True, index=False)\n",
    "\n",
    "            \n"
   ]
  },
  {
   "cell_type": "code",
   "execution_count": 2,
   "id": "e30e4a6f-d131-4fdc-b3db-e48dbda2e3ca",
   "metadata": {},
   "outputs": [
    {
     "name": "stdout",
     "output_type": "stream",
     "text": [
      "After drop_sparse_rc, shape = (6647219, 46)\n"
     ]
    }
   ],
   "source": [
    "%run -i common.ipynb\n",
    "\n",
    "all_darshan_data=\"/project/projectdirs/m2621/dbin/Cori_archive_19_20_21_22_un_taz_parsered_tagged.csv\"\n",
    "all_darshan_data_for_trainning=\"/project/projectdirs/m2621/dbin/Cori_archive_19_20_21_22_un_taz_parsered_tagged_for_training-v1.csv\"\n",
    "#all_darshan_data_for_trainning=\"/project/projectdirs/m2621/dbin/Cori_archive_19_20_21_22_un_taz_parsered_tagged_for_training_nonLogTranFeature.csv\"\n",
    "\n",
    "all_darshan_data_df=pd.read_csv(all_darshan_data)\n",
    "\n",
    "all_darshan_data_df_fe=feature_engineering(all_darshan_data_df, log_transform_feature=True, log_transform_tag=True)\n",
    "all_darshan_data_df_fe_dense=drop_sparse_rc(all_darshan_data_df_fe)\n",
    "all_darshan_data_df_fe_dense.to_csv(all_darshan_data_for_trainning, header=True, index=False)\n",
    "#all_darshan_data_df_fe_dense.hist(column='tag')\n",
    "\n",
    "\n",
    "\n"
   ]
  }
 ],
 "metadata": {
  "kernelspec": {
   "display_name": "NERSC Python",
   "language": "python",
   "name": "python3"
  },
  "language_info": {
   "codemirror_mode": {
    "name": "ipython",
    "version": 3
   },
   "file_extension": ".py",
   "mimetype": "text/x-python",
   "name": "python",
   "nbconvert_exporter": "python",
   "pygments_lexer": "ipython3",
   "version": "3.9.7"
  }
 },
 "nbformat": 4,
 "nbformat_minor": 5
}
